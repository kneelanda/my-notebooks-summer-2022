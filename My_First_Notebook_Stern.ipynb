{
  "nbformat": 4,
  "nbformat_minor": 0,
  "metadata": {
    "colab": {
      "name": "My First Notebook Stern",
      "provenance": [],
      "toc_visible": true,
      "authorship_tag": "ABX9TyMU0KgP0cNFfNS2xocCtADm",
      "include_colab_link": true
    },
    "kernelspec": {
      "name": "python3",
      "display_name": "Python 3"
    },
    "language_info": {
      "name": "python"
    }
  },
  "cells": [
    {
      "cell_type": "markdown",
      "metadata": {
        "id": "view-in-github",
        "colab_type": "text"
      },
      "source": [
        "<a href=\"https://colab.research.google.com/github/kneelanda/my-notebooks-summer-2022/blob/main/My_First_Notebook_Stern.ipynb\" target=\"_parent\"><img src=\"https://colab.research.google.com/assets/colab-badge.svg\" alt=\"Open In Colab\"/></a>"
      ]
    },
    {
      "cell_type": "markdown",
      "source": [
        "#My heading\n",
        "\n",
        "## Heading level 2 \n",
        "\n",
        "Here's a list:\n",
        "\n",
        "\n",
        "*   List item\n",
        "*   List item\n",
        "\n",
        "[hyperlink](www.google.com)\n",
        "\n",
        "```\n",
        "print(\"hello\")\n",
        "```\n",
        "\n"
      ],
      "metadata": {
        "id": "6q8K-LLywfah"
      }
    },
    {
      "cell_type": "markdown",
      "source": [
        ""
      ],
      "metadata": {
        "id": "mu7dWTMYxeoS"
      }
    },
    {
      "cell_type": "code",
      "source": [
        "# This is some example Python code\n",
        "# These lines starting with \"#\" are \"comments\"\n",
        "# Remember \"#\" means something different in Markdown than it does in Python\n",
        "\n",
        "print(\"HELLO WORLD!\")\n",
        "\n",
        "x = 2 + 2\n",
        "print(x)\n"
      ],
      "metadata": {
        "colab": {
          "base_uri": "https://localhost:8080/"
        },
        "id": "SObIa6i4yqfb",
        "outputId": "f34dc509-84f0-46fc-a587-26cfcdaaae24"
      },
      "execution_count": 2,
      "outputs": [
        {
          "output_type": "stream",
          "name": "stdout",
          "text": [
            "HELLO WORLD!\n",
            "4\n"
          ]
        }
      ]
    }
  ]
}